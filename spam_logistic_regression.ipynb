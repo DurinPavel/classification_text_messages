{
  "nbformat": 4,
  "nbformat_minor": 0,
  "metadata": {
    "colab": {
      "provenance": []
    },
    "kernelspec": {
      "name": "python3",
      "display_name": "Python 3"
    },
    "language_info": {
      "name": "python"
    }
  },
  "cells": [
    {
      "cell_type": "code",
      "execution_count": null,
      "metadata": {
        "id": "ggCdUXiidwzy"
      },
      "outputs": [],
      "source": [
        "import pandas as pd\n",
        "import matplotlib.pyplot as plt\n",
        "import re\n",
        "import nltk\n",
        "from nltk.corpus import stopwords\n",
        "from nltk.stem import WordNetLemmatizer\n",
        "from sklearn.feature_extraction.text import TfidfVectorizer\n",
        "from sklearn.model_selection import train_test_split\n",
        "from sklearn.linear_model import LogisticRegression\n",
        "from sklearn.metrics import accuracy_score\n",
        "from sklearn.metrics import confusion_matrix\n",
        "from sklearn.metrics import ConfusionMatrixDisplay\n",
        "from pylab import rcParams\n",
        "rcParams['figure.figsize'] = 11,7"
      ]
    },
    {
      "cell_type": "markdown",
      "source": [
        "##**Задание**\n",
        "\n",
        "\n",
        "---\n",
        "##**Task**"
      ],
      "metadata": {
        "id": "LTHzB60xjcN-"
      }
    },
    {
      "cell_type": "markdown",
      "source": [
        "Реализуйте базовую модель логистической регрессии для классификации текстовых  \n",
        "сообщений (используемые данные [здесь](https://github.com/DurinPavel/classification_text_messages/blob/main/spam.csv)) по признаку спама. Для этого:\n",
        "1. Приведите весь текст к нижнему регистру;  \n",
        "2. Удалите мусорные символы;  \n",
        "3. Удалите стоп-слова;  \n",
        "4. Приведите все слова к нормальной форме;  \n",
        "5. Преобразуйте все сообщения в вектора TF-IDF; \n",
        "6. Разделите данные на тестовые и тренировочные в соотношении 30/70, укажите random_state=42. Используйте train_test_split; \n",
        "7. Постройте модель логистической регрессии, укажите random_state=42, оцените ее точность на тестовых данных; \n",
        "8. Опишите результаты при помощи confusion_matrix; \n",
        "9. Постройте датафрейм, который будет содержать все исходные тексты сообщений,  \n",
        "классифицированные неправильно (с указанием фактического и предсказанного).\n",
        "\n",
        "\n",
        "---\n",
        "Implement a basic logistic regression model for text\n",
        "message classification (data used [here](https://github.com/DurinPavel/classification_text_messages/blob/main/spam.csv)) based on spam. For this:\n",
        "1. Reduce the entire text to lowercase;  \n",
        "2. Remove junk symbols;  \n",
        "3. Delete stop words;  \n",
        "4. Bring all the words to normal form;  \n",
        "5. Convert all messages to TF-IDF vectors;\n",
        "6. Divide the data into test and training data in a ratio of 30/70, specify  \n",
        "random_state=42. Use train_test_split;  \n",
        "7. Build a logistic regression model, specify random_state=42, estimate  \n",
        "its accuracy is based on test data;\n",
        "8. Describe the results using confusion_matrix;\n",
        "9. Build a dataframe that will contain all the original texts of messages\n",
        "classified incorrectly (indicating the actual and predicted)."
      ],
      "metadata": {
        "id": "ejZZd6A9jrUY"
      }
    },
    {
      "cell_type": "code",
      "source": [
        "# Загрузим наши данные, для удобства переименуем столбцы:\n",
        "# -----------------------------------------------------------------------------\n",
        "# Upload our data, rename the columns for convenience:\n",
        "\n",
        "df = pd.read_csv('spam.csv',\n",
        "                 header=0,\n",
        "                 names=['Категория', 'Сообщение'])\n",
        "df.head()"
      ],
      "metadata": {
        "colab": {
          "base_uri": "https://localhost:8080/",
          "height": 206
        },
        "id": "wFNUJPXUjpqf",
        "outputId": "1459aed2-0d38-454b-caa0-735a71b20807"
      },
      "execution_count": null,
      "outputs": [
        {
          "output_type": "execute_result",
          "data": {
            "text/plain": [
              "  Категория                                          Сообщение\n",
              "0       ham  Go until jurong point, crazy.. Available only ...\n",
              "1       ham                      Ok lar... Joking wif u oni...\n",
              "2      spam  Free entry in 2 a wkly comp to win FA Cup fina...\n",
              "3       ham  U dun say so early hor... U c already then say...\n",
              "4       ham  Nah I don't think he goes to usf, he lives aro..."
            ],
            "text/html": [
              "\n",
              "  <div id=\"df-ba25f385-fde8-4cf1-ba1b-042a31965028\">\n",
              "    <div class=\"colab-df-container\">\n",
              "      <div>\n",
              "<style scoped>\n",
              "    .dataframe tbody tr th:only-of-type {\n",
              "        vertical-align: middle;\n",
              "    }\n",
              "\n",
              "    .dataframe tbody tr th {\n",
              "        vertical-align: top;\n",
              "    }\n",
              "\n",
              "    .dataframe thead th {\n",
              "        text-align: right;\n",
              "    }\n",
              "</style>\n",
              "<table border=\"1\" class=\"dataframe\">\n",
              "  <thead>\n",
              "    <tr style=\"text-align: right;\">\n",
              "      <th></th>\n",
              "      <th>Категория</th>\n",
              "      <th>Сообщение</th>\n",
              "    </tr>\n",
              "  </thead>\n",
              "  <tbody>\n",
              "    <tr>\n",
              "      <th>0</th>\n",
              "      <td>ham</td>\n",
              "      <td>Go until jurong point, crazy.. Available only ...</td>\n",
              "    </tr>\n",
              "    <tr>\n",
              "      <th>1</th>\n",
              "      <td>ham</td>\n",
              "      <td>Ok lar... Joking wif u oni...</td>\n",
              "    </tr>\n",
              "    <tr>\n",
              "      <th>2</th>\n",
              "      <td>spam</td>\n",
              "      <td>Free entry in 2 a wkly comp to win FA Cup fina...</td>\n",
              "    </tr>\n",
              "    <tr>\n",
              "      <th>3</th>\n",
              "      <td>ham</td>\n",
              "      <td>U dun say so early hor... U c already then say...</td>\n",
              "    </tr>\n",
              "    <tr>\n",
              "      <th>4</th>\n",
              "      <td>ham</td>\n",
              "      <td>Nah I don't think he goes to usf, he lives aro...</td>\n",
              "    </tr>\n",
              "  </tbody>\n",
              "</table>\n",
              "</div>\n",
              "      <button class=\"colab-df-convert\" onclick=\"convertToInteractive('df-ba25f385-fde8-4cf1-ba1b-042a31965028')\"\n",
              "              title=\"Convert this dataframe to an interactive table.\"\n",
              "              style=\"display:none;\">\n",
              "        \n",
              "  <svg xmlns=\"http://www.w3.org/2000/svg\" height=\"24px\"viewBox=\"0 0 24 24\"\n",
              "       width=\"24px\">\n",
              "    <path d=\"M0 0h24v24H0V0z\" fill=\"none\"/>\n",
              "    <path d=\"M18.56 5.44l.94 2.06.94-2.06 2.06-.94-2.06-.94-.94-2.06-.94 2.06-2.06.94zm-11 1L8.5 8.5l.94-2.06 2.06-.94-2.06-.94L8.5 2.5l-.94 2.06-2.06.94zm10 10l.94 2.06.94-2.06 2.06-.94-2.06-.94-.94-2.06-.94 2.06-2.06.94z\"/><path d=\"M17.41 7.96l-1.37-1.37c-.4-.4-.92-.59-1.43-.59-.52 0-1.04.2-1.43.59L10.3 9.45l-7.72 7.72c-.78.78-.78 2.05 0 2.83L4 21.41c.39.39.9.59 1.41.59.51 0 1.02-.2 1.41-.59l7.78-7.78 2.81-2.81c.8-.78.8-2.07 0-2.86zM5.41 20L4 18.59l7.72-7.72 1.47 1.35L5.41 20z\"/>\n",
              "  </svg>\n",
              "      </button>\n",
              "      \n",
              "  <style>\n",
              "    .colab-df-container {\n",
              "      display:flex;\n",
              "      flex-wrap:wrap;\n",
              "      gap: 12px;\n",
              "    }\n",
              "\n",
              "    .colab-df-convert {\n",
              "      background-color: #E8F0FE;\n",
              "      border: none;\n",
              "      border-radius: 50%;\n",
              "      cursor: pointer;\n",
              "      display: none;\n",
              "      fill: #1967D2;\n",
              "      height: 32px;\n",
              "      padding: 0 0 0 0;\n",
              "      width: 32px;\n",
              "    }\n",
              "\n",
              "    .colab-df-convert:hover {\n",
              "      background-color: #E2EBFA;\n",
              "      box-shadow: 0px 1px 2px rgba(60, 64, 67, 0.3), 0px 1px 3px 1px rgba(60, 64, 67, 0.15);\n",
              "      fill: #174EA6;\n",
              "    }\n",
              "\n",
              "    [theme=dark] .colab-df-convert {\n",
              "      background-color: #3B4455;\n",
              "      fill: #D2E3FC;\n",
              "    }\n",
              "\n",
              "    [theme=dark] .colab-df-convert:hover {\n",
              "      background-color: #434B5C;\n",
              "      box-shadow: 0px 1px 3px 1px rgba(0, 0, 0, 0.15);\n",
              "      filter: drop-shadow(0px 1px 2px rgba(0, 0, 0, 0.3));\n",
              "      fill: #FFFFFF;\n",
              "    }\n",
              "  </style>\n",
              "\n",
              "      <script>\n",
              "        const buttonEl =\n",
              "          document.querySelector('#df-ba25f385-fde8-4cf1-ba1b-042a31965028 button.colab-df-convert');\n",
              "        buttonEl.style.display =\n",
              "          google.colab.kernel.accessAllowed ? 'block' : 'none';\n",
              "\n",
              "        async function convertToInteractive(key) {\n",
              "          const element = document.querySelector('#df-ba25f385-fde8-4cf1-ba1b-042a31965028');\n",
              "          const dataTable =\n",
              "            await google.colab.kernel.invokeFunction('convertToInteractive',\n",
              "                                                     [key], {});\n",
              "          if (!dataTable) return;\n",
              "\n",
              "          const docLinkHtml = 'Like what you see? Visit the ' +\n",
              "            '<a target=\"_blank\" href=https://colab.research.google.com/notebooks/data_table.ipynb>data table notebook</a>'\n",
              "            + ' to learn more about interactive tables.';\n",
              "          element.innerHTML = '';\n",
              "          dataTable['output_type'] = 'display_data';\n",
              "          await google.colab.output.renderOutput(dataTable, element);\n",
              "          const docLink = document.createElement('div');\n",
              "          docLink.innerHTML = docLinkHtml;\n",
              "          element.appendChild(docLink);\n",
              "        }\n",
              "      </script>\n",
              "    </div>\n",
              "  </div>\n",
              "  "
            ]
          },
          "metadata": {},
          "execution_count": 50
        }
      ]
    },
    {
      "cell_type": "code",
      "source": [
        "# Приведем все слова к нижнему регистру:\n",
        "# -----------------------------------------------------------------------------\n",
        "# Reduce all words to lowercase:\n",
        "\n",
        "texts_lower_case = [text.lower() for text in df['Сообщение']]\n",
        "print(texts_lower_case)"
      ],
      "metadata": {
        "id": "I0LPabP43-OM"
      },
      "execution_count": null,
      "outputs": []
    },
    {
      "cell_type": "code",
      "source": [
        "# Уберем все служебные символы и цифры:\n",
        "# -----------------------------------------------------------------------------\n",
        "# Remove all service symbols and numbers:\n",
        "\n",
        "only_words_text = [re.sub('[\\W_\\d]+', ' ', text) for text in texts_lower_case]\n",
        "print(only_words_text)"
      ],
      "metadata": {
        "id": "WYIpiW1z4S8q"
      },
      "execution_count": null,
      "outputs": []
    },
    {
      "cell_type": "code",
      "source": [
        "# Токенизируем - разделим на отдельные слова:\n",
        "# -----------------------------------------------------------------------------\n",
        "# Tokenize - divide into separate words:\n",
        "\n",
        "texts_splitted = [text.split() for text in only_words_text]\n",
        "print(texts_splitted)"
      ],
      "metadata": {
        "id": "uDUGvdGG4gm3"
      },
      "execution_count": null,
      "outputs": []
    },
    {
      "cell_type": "code",
      "source": [
        "# Удалим стоп-слова и слова из одной буквы:\n",
        "# -----------------------------------------------------------------------------\n",
        "# Remove stop words and words from the same letter:\n",
        "\n",
        "nltk.download('stopwords')\n",
        "stopwords_set = set(stopwords.words('english'))\n",
        "without_sw = [[word for word in text if len(word) > 1 \\\n",
        "               and word not in stopwords_set] for text in texts_splitted]\n",
        "print(without_sw)"
      ],
      "metadata": {
        "id": "oTJ0VoJg4v79"
      },
      "execution_count": null,
      "outputs": []
    },
    {
      "cell_type": "code",
      "source": [
        "# Лемманизируем - приведем все слова к нормальной форме:\n",
        "# -----------------------------------------------------------------------------\n",
        "# # Lemmatize - let 's bring all the words to normal form:\n",
        "\n",
        "nltk.download('omw-1.4')\n",
        "nltk.download('wordnet')\n",
        "\n",
        "wordnet_lemmatizer = WordNetLemmatizer()\n",
        "lemmatized_text = [[wordnet_lemmatizer.lemmatize(word) for word in text] \\\n",
        "                   for text in without_sw]\n",
        "print(lemmatized_text)"
      ],
      "metadata": {
        "id": "Mgpzxiu95Idf"
      },
      "execution_count": null,
      "outputs": []
    },
    {
      "cell_type": "code",
      "source": [
        "# Вернем все к простому списку:\n",
        "# -----------------------------------------------------------------------------\n",
        "# Let's return everything to a simple list:\n",
        "\n",
        "text_list = [' '.join(text) for text in lemmatized_text]\n",
        "print(text_list)"
      ],
      "metadata": {
        "id": "XkJ-rHfF5cqg"
      },
      "execution_count": null,
      "outputs": []
    },
    {
      "cell_type": "code",
      "source": [
        "# Преобразуем сообщения в вектора TF-IDF:\n",
        "# -----------------------------------------------------------------------------\n",
        "# Convert messages to TF-IDF vectors:\n",
        "\n",
        "tfidf = TfidfVectorizer(use_idf=True)\n",
        "tfidf_matrix = tfidf.fit_transform(text_list)\n",
        "names = tfidf.get_feature_names_out()\n",
        "tfidf_matrix = pd.DataFrame(tfidf_matrix.toarray(), columns=names)"
      ],
      "metadata": {
        "id": "7khfQ66M5r5v"
      },
      "execution_count": null,
      "outputs": []
    },
    {
      "cell_type": "code",
      "source": [
        "# Разделим наши данные на тестовые и тренировочные:\n",
        "# -----------------------------------------------------------------------------\n",
        "# Let's divide our data into test and training:\n",
        "\n",
        "X_train, X_test, y_train, y_test = train_test_split(tfidf_matrix,\n",
        "                                                    df['Категория'].values,\n",
        "                                                    test_size = 0.30,\n",
        "                                                    random_state = 42)"
      ],
      "metadata": {
        "id": "AVvV9c3L55zR"
      },
      "execution_count": null,
      "outputs": []
    },
    {
      "cell_type": "code",
      "source": [
        "# Построим модель логистической регрессии:\n",
        "# -----------------------------------------------------------------------------\n",
        "# Let's build a logistic regression model:\n",
        "\n",
        "lr = LogisticRegression(random_state=42)"
      ],
      "metadata": {
        "id": "FFCJIG-E6JPJ"
      },
      "execution_count": null,
      "outputs": []
    },
    {
      "cell_type": "code",
      "source": [
        "# Обучим нашу модель:\n",
        "# -----------------------------------------------------------------------------\n",
        "# Let's train our model:\n",
        "\n",
        "lr.fit(X_train, y_train)"
      ],
      "metadata": {
        "id": "pBrfOt9O6Z0B"
      },
      "execution_count": null,
      "outputs": []
    },
    {
      "cell_type": "code",
      "source": [
        "# Сделаем предсказания:\n",
        "# -----------------------------------------------------------------------------\n",
        "# Make predictions:\n",
        "\n",
        "lr.predict(X_test)"
      ],
      "metadata": {
        "colab": {
          "base_uri": "https://localhost:8080/"
        },
        "id": "2h3OP0zF6lLK",
        "outputId": "cb39559c-6ea7-4103-ba46-edf01d3dd0ae"
      },
      "execution_count": null,
      "outputs": [
        {
          "output_type": "execute_result",
          "data": {
            "text/plain": [
              "array(['ham', 'ham', 'ham', ..., 'ham', 'spam', 'ham'], dtype=object)"
            ]
          },
          "metadata": {},
          "execution_count": 61
        }
      ]
    },
    {
      "cell_type": "code",
      "source": [
        "# Оценим точность модели:\n",
        "# -----------------------------------------------------------------------------\n",
        "# Let's evaluate the accuracy of the model:\n",
        "\n",
        "accuracy_score(y_test, lr.predict(X_test)).round(2)"
      ],
      "metadata": {
        "colab": {
          "base_uri": "https://localhost:8080/"
        },
        "id": "a1tT1qft603G",
        "outputId": "1b9b7428-9113-48b8-cbba-fd125e160962"
      },
      "execution_count": null,
      "outputs": [
        {
          "output_type": "execute_result",
          "data": {
            "text/plain": [
              "0.96"
            ]
          },
          "metadata": {},
          "execution_count": 62
        }
      ]
    },
    {
      "cell_type": "markdown",
      "source": [
        "*Видим, что модель работает достаточно хорошо.  \n",
        "Точность предсказаний 96 %.*\n",
        "\n",
        "\n",
        "---\n",
        "*We see that the model works quite well.  \n",
        "The accuracy of predictions is 96%.*"
      ],
      "metadata": {
        "id": "E4Loz2iK7JSI"
      }
    },
    {
      "cell_type": "code",
      "source": [
        "# Построим матрицу ошибок:\n",
        "# -----------------------------------------------------------------------------\n",
        "# Let's build a matrix of errors:\n",
        "\n",
        "c_matrix = confusion_matrix(y_test, lr.predict(X_test))\n",
        "print(c_matrix)"
      ],
      "metadata": {
        "colab": {
          "base_uri": "https://localhost:8080/"
        },
        "id": "Dpbl3rui7F3X",
        "outputId": "135c9ae7-037f-4388-fc65-e88a34d8e431"
      },
      "execution_count": null,
      "outputs": [
        {
          "output_type": "stream",
          "name": "stdout",
          "text": [
            "[[1445    3]\n",
            " [  64  160]]\n"
          ]
        }
      ]
    },
    {
      "cell_type": "markdown",
      "source": [
        "*Из данной матрицы мы видим, что 1445 - это число верно предсказанных  \n",
        "сообщений, которые не являются спамом; 160 - число верно предсказанных  \n",
        "сообщений, которые являются спамом; 3 - число ошибочно предсказанных  \n",
        "сообщений, которые не являются спамом; 64 - число ошибочно предсказанных  \n",
        "сообщений, которые являются спамом.*  \n",
        "\n",
        "\n",
        "---\n",
        "*From this matrix, we see that 1445 is the number of correctly predicted  \n",
        "messages that are not spam; 160 is the number of correctly predicted  \n",
        "messages that are spam; 3 is the number of erroneously predicted  \n",
        "messages that are not spam; 64 is the number of erroneously predicted  \n",
        "messages that are spam.*"
      ],
      "metadata": {
        "id": "QZkIDSLU7rLU"
      }
    },
    {
      "cell_type": "code",
      "source": [
        "# Визуализируем нашу матрицу:\n",
        "# -----------------------------------------------------------------------------\n",
        "# Visualize our matrix:\n",
        "\n",
        "cm_display = ConfusionMatrixDisplay(confusion_matrix = c_matrix,\n",
        "                                    display_labels = ['Истина', 'Ложь'])\n",
        "\n",
        "cm_display.plot()\n",
        "plt.title('Матрица ошибок', fontsize=16, fontweight='bold', pad=20)\n",
        "plt.xlabel('Предсказания', fontsize=14, fontweight='bold')\n",
        "plt.ylabel('Фактические данные', fontsize=14, fontweight='bold')\n",
        "plt.xticks(fontsize=12, fontweight='bold')\n",
        "plt.yticks(fontsize=12, fontweight='bold')\n",
        "plt.show()"
      ],
      "metadata": {
        "colab": {
          "base_uri": "https://localhost:8080/",
          "height": 673
        },
        "id": "v9X4E6qL72qo",
        "outputId": "89a9c491-ece8-435f-ec2d-6d2fda0381d9"
      },
      "execution_count": null,
      "outputs": [
        {
          "output_type": "display_data",
          "data": {
            "text/plain": [
              "<Figure size 1100x700 with 2 Axes>"
            ],
            "image/png": "[encoded data removed]"
          },
          "metadata": {}
        }
      ]
    },
    {
      "cell_type": "code",
      "source": [
        "# Посмотрим разницу факта и прогноза:\n",
        "# -----------------------------------------------------------------------------\n",
        "# Let's see the difference between the fact and the forecast:\n",
        "\n",
        "result = pd.DataFrame([y_test, lr.predict(X_test)]).T\n",
        "result.columns = ['Факт', 'Прогноз']\n",
        "result = result.loc[result['Факт'] != result['Прогноз']]\n",
        "result.head()"
      ],
      "metadata": {
        "colab": {
          "base_uri": "https://localhost:8080/",
          "height": 206
        },
        "id": "BV8nCnPE8dD9",
        "outputId": "8618ba50-3a75-406b-b3f2-4f7b329add70"
      },
      "execution_count": null,
      "outputs": [
        {
          "output_type": "execute_result",
          "data": {
            "text/plain": [
              "    Факт Прогноз\n",
              "17   ham    spam\n",
              "40  spam     ham\n",
              "47  spam     ham\n",
              "74  spam     ham\n",
              "84  spam     ham"
            ],
            "text/html": [
              "\n",
              "  <div id=\"df-c30f0dac-f808-41e2-8790-8098b821f574\">\n",
              "    <div class=\"colab-df-container\">\n",
              "      <div>\n",
              "<style scoped>\n",
              "    .dataframe tbody tr th:only-of-type {\n",
              "        vertical-align: middle;\n",
              "    }\n",
              "\n",
              "    .dataframe tbody tr th {\n",
              "        vertical-align: top;\n",
              "    }\n",
              "\n",
              "    .dataframe thead th {\n",
              "        text-align: right;\n",
              "    }\n",
              "</style>\n",
              "<table border=\"1\" class=\"dataframe\">\n",
              "  <thead>\n",
              "    <tr style=\"text-align: right;\">\n",
              "      <th></th>\n",
              "      <th>Факт</th>\n",
              "      <th>Прогноз</th>\n",
              "    </tr>\n",
              "  </thead>\n",
              "  <tbody>\n",
              "    <tr>\n",
              "      <th>17</th>\n",
              "      <td>ham</td>\n",
              "      <td>spam</td>\n",
              "    </tr>\n",
              "    <tr>\n",
              "      <th>40</th>\n",
              "      <td>spam</td>\n",
              "      <td>ham</td>\n",
              "    </tr>\n",
              "    <tr>\n",
              "      <th>47</th>\n",
              "      <td>spam</td>\n",
              "      <td>ham</td>\n",
              "    </tr>\n",
              "    <tr>\n",
              "      <th>74</th>\n",
              "      <td>spam</td>\n",
              "      <td>ham</td>\n",
              "    </tr>\n",
              "    <tr>\n",
              "      <th>84</th>\n",
              "      <td>spam</td>\n",
              "      <td>ham</td>\n",
              "    </tr>\n",
              "  </tbody>\n",
              "</table>\n",
              "</div>\n",
              "      <button class=\"colab-df-convert\" onclick=\"convertToInteractive('df-c30f0dac-f808-41e2-8790-8098b821f574')\"\n",
              "              title=\"Convert this dataframe to an interactive table.\"\n",
              "              style=\"display:none;\">\n",
              "        \n",
              "  <svg xmlns=\"http://www.w3.org/2000/svg\" height=\"24px\"viewBox=\"0 0 24 24\"\n",
              "       width=\"24px\">\n",
              "    <path d=\"M0 0h24v24H0V0z\" fill=\"none\"/>\n",
              "    <path d=\"M18.56 5.44l.94 2.06.94-2.06 2.06-.94-2.06-.94-.94-2.06-.94 2.06-2.06.94zm-11 1L8.5 8.5l.94-2.06 2.06-.94-2.06-.94L8.5 2.5l-.94 2.06-2.06.94zm10 10l.94 2.06.94-2.06 2.06-.94-2.06-.94-.94-2.06-.94 2.06-2.06.94z\"/><path d=\"M17.41 7.96l-1.37-1.37c-.4-.4-.92-.59-1.43-.59-.52 0-1.04.2-1.43.59L10.3 9.45l-7.72 7.72c-.78.78-.78 2.05 0 2.83L4 21.41c.39.39.9.59 1.41.59.51 0 1.02-.2 1.41-.59l7.78-7.78 2.81-2.81c.8-.78.8-2.07 0-2.86zM5.41 20L4 18.59l7.72-7.72 1.47 1.35L5.41 20z\"/>\n",
              "  </svg>\n",
              "      </button>\n",
              "      \n",
              "  <style>\n",
              "    .colab-df-container {\n",
              "      display:flex;\n",
              "      flex-wrap:wrap;\n",
              "      gap: 12px;\n",
              "    }\n",
              "\n",
              "    .colab-df-convert {\n",
              "      background-color: #E8F0FE;\n",
              "      border: none;\n",
              "      border-radius: 50%;\n",
              "      cursor: pointer;\n",
              "      display: none;\n",
              "      fill: #1967D2;\n",
              "      height: 32px;\n",
              "      padding: 0 0 0 0;\n",
              "      width: 32px;\n",
              "    }\n",
              "\n",
              "    .colab-df-convert:hover {\n",
              "      background-color: #E2EBFA;\n",
              "      box-shadow: 0px 1px 2px rgba(60, 64, 67, 0.3), 0px 1px 3px 1px rgba(60, 64, 67, 0.15);\n",
              "      fill: #174EA6;\n",
              "    }\n",
              "\n",
              "    [theme=dark] .colab-df-convert {\n",
              "      background-color: #3B4455;\n",
              "      fill: #D2E3FC;\n",
              "    }\n",
              "\n",
              "    [theme=dark] .colab-df-convert:hover {\n",
              "      background-color: #434B5C;\n",
              "      box-shadow: 0px 1px 3px 1px rgba(0, 0, 0, 0.15);\n",
              "      filter: drop-shadow(0px 1px 2px rgba(0, 0, 0, 0.3));\n",
              "      fill: #FFFFFF;\n",
              "    }\n",
              "  </style>\n",
              "\n",
              "      <script>\n",
              "        const buttonEl =\n",
              "          document.querySelector('#df-c30f0dac-f808-41e2-8790-8098b821f574 button.colab-df-convert');\n",
              "        buttonEl.style.display =\n",
              "          google.colab.kernel.accessAllowed ? 'block' : 'none';\n",
              "\n",
              "        async function convertToInteractive(key) {\n",
              "          const element = document.querySelector('#df-c30f0dac-f808-41e2-8790-8098b821f574');\n",
              "          const dataTable =\n",
              "            await google.colab.kernel.invokeFunction('convertToInteractive',\n",
              "                                                     [key], {});\n",
              "          if (!dataTable) return;\n",
              "\n",
              "          const docLinkHtml = 'Like what you see? Visit the ' +\n",
              "            '<a target=\"_blank\" href=https://colab.research.google.com/notebooks/data_table.ipynb>data table notebook</a>'\n",
              "            + ' to learn more about interactive tables.';\n",
              "          element.innerHTML = '';\n",
              "          dataTable['output_type'] = 'display_data';\n",
              "          await google.colab.output.renderOutput(dataTable, element);\n",
              "          const docLink = document.createElement('div');\n",
              "          docLink.innerHTML = docLinkHtml;\n",
              "          element.appendChild(docLink);\n",
              "        }\n",
              "      </script>\n",
              "    </div>\n",
              "  </div>\n",
              "  "
            ]
          },
          "metadata": {},
          "execution_count": 65
        }
      ]
    },
    {
      "cell_type": "code",
      "source": [
        "# Построим датафрейм, который будет содержать все исходные тексты сообщений,\n",
        "# классифицированные неправильно:\n",
        "# -----------------------------------------------------------------------------\n",
        "# Let's build a dataframe that will contain all the source texts of messages,\n",
        "# classified incorrectly:\n",
        "\n",
        "mispredicted = pd.merge(result, df['Сообщение'],\n",
        "                        left_index=True, right_index=True)\n",
        "mispredicted.head()"
      ],
      "metadata": {
        "colab": {
          "base_uri": "https://localhost:8080/",
          "height": 206
        },
        "id": "Xj5keaN88q6W",
        "outputId": "9844641a-dd9b-4c13-8fde-00bae542638e"
      },
      "execution_count": null,
      "outputs": [
        {
          "output_type": "execute_result",
          "data": {
            "text/plain": [
              "    Факт Прогноз                                          Сообщение\n",
              "17   ham    spam  Eh u remember how 2 spell his name... Yes i di...\n",
              "40  spam     ham  Pls go ahead with watts. I just wanted to be s...\n",
              "47  spam     ham                    Fair enough, anything going on?\n",
              "74  spam     ham                               U can call me now...\n",
              "84  spam     ham                                     Yup next stop."
            ],
            "text/html": [
              "\n",
              "  <div id=\"df-3268e0e7-58e6-42b2-8a3c-3b06ce71b5e5\">\n",
              "    <div class=\"colab-df-container\">\n",
              "      <div>\n",
              "<style scoped>\n",
              "    .dataframe tbody tr th:only-of-type {\n",
              "        vertical-align: middle;\n",
              "    }\n",
              "\n",
              "    .dataframe tbody tr th {\n",
              "        vertical-align: top;\n",
              "    }\n",
              "\n",
              "    .dataframe thead th {\n",
              "        text-align: right;\n",
              "    }\n",
              "</style>\n",
              "<table border=\"1\" class=\"dataframe\">\n",
              "  <thead>\n",
              "    <tr style=\"text-align: right;\">\n",
              "      <th></th>\n",
              "      <th>Факт</th>\n",
              "      <th>Прогноз</th>\n",
              "      <th>Сообщение</th>\n",
              "    </tr>\n",
              "  </thead>\n",
              "  <tbody>\n",
              "    <tr>\n",
              "      <th>17</th>\n",
              "      <td>ham</td>\n",
              "      <td>spam</td>\n",
              "      <td>Eh u remember how 2 spell his name... Yes i di...</td>\n",
              "    </tr>\n",
              "    <tr>\n",
              "      <th>40</th>\n",
              "      <td>spam</td>\n",
              "      <td>ham</td>\n",
              "      <td>Pls go ahead with watts. I just wanted to be s...</td>\n",
              "    </tr>\n",
              "    <tr>\n",
              "      <th>47</th>\n",
              "      <td>spam</td>\n",
              "      <td>ham</td>\n",
              "      <td>Fair enough, anything going on?</td>\n",
              "    </tr>\n",
              "    <tr>\n",
              "      <th>74</th>\n",
              "      <td>spam</td>\n",
              "      <td>ham</td>\n",
              "      <td>U can call me now...</td>\n",
              "    </tr>\n",
              "    <tr>\n",
              "      <th>84</th>\n",
              "      <td>spam</td>\n",
              "      <td>ham</td>\n",
              "      <td>Yup next stop.</td>\n",
              "    </tr>\n",
              "  </tbody>\n",
              "</table>\n",
              "</div>\n",
              "      <button class=\"colab-df-convert\" onclick=\"convertToInteractive('df-3268e0e7-58e6-42b2-8a3c-3b06ce71b5e5')\"\n",
              "              title=\"Convert this dataframe to an interactive table.\"\n",
              "              style=\"display:none;\">\n",
              "        \n",
              "  <svg xmlns=\"http://www.w3.org/2000/svg\" height=\"24px\"viewBox=\"0 0 24 24\"\n",
              "       width=\"24px\">\n",
              "    <path d=\"M0 0h24v24H0V0z\" fill=\"none\"/>\n",
              "    <path d=\"M18.56 5.44l.94 2.06.94-2.06 2.06-.94-2.06-.94-.94-2.06-.94 2.06-2.06.94zm-11 1L8.5 8.5l.94-2.06 2.06-.94-2.06-.94L8.5 2.5l-.94 2.06-2.06.94zm10 10l.94 2.06.94-2.06 2.06-.94-2.06-.94-.94-2.06-.94 2.06-2.06.94z\"/><path d=\"M17.41 7.96l-1.37-1.37c-.4-.4-.92-.59-1.43-.59-.52 0-1.04.2-1.43.59L10.3 9.45l-7.72 7.72c-.78.78-.78 2.05 0 2.83L4 21.41c.39.39.9.59 1.41.59.51 0 1.02-.2 1.41-.59l7.78-7.78 2.81-2.81c.8-.78.8-2.07 0-2.86zM5.41 20L4 18.59l7.72-7.72 1.47 1.35L5.41 20z\"/>\n",
              "  </svg>\n",
              "      </button>\n",
              "      \n",
              "  <style>\n",
              "    .colab-df-container {\n",
              "      display:flex;\n",
              "      flex-wrap:wrap;\n",
              "      gap: 12px;\n",
              "    }\n",
              "\n",
              "    .colab-df-convert {\n",
              "      background-color: #E8F0FE;\n",
              "      border: none;\n",
              "      border-radius: 50%;\n",
              "      cursor: pointer;\n",
              "      display: none;\n",
              "      fill: #1967D2;\n",
              "      height: 32px;\n",
              "      padding: 0 0 0 0;\n",
              "      width: 32px;\n",
              "    }\n",
              "\n",
              "    .colab-df-convert:hover {\n",
              "      background-color: #E2EBFA;\n",
              "      box-shadow: 0px 1px 2px rgba(60, 64, 67, 0.3), 0px 1px 3px 1px rgba(60, 64, 67, 0.15);\n",
              "      fill: #174EA6;\n",
              "    }\n",
              "\n",
              "    [theme=dark] .colab-df-convert {\n",
              "      background-color: #3B4455;\n",
              "      fill: #D2E3FC;\n",
              "    }\n",
              "\n",
              "    [theme=dark] .colab-df-convert:hover {\n",
              "      background-color: #434B5C;\n",
              "      box-shadow: 0px 1px 3px 1px rgba(0, 0, 0, 0.15);\n",
              "      filter: drop-shadow(0px 1px 2px rgba(0, 0, 0, 0.3));\n",
              "      fill: #FFFFFF;\n",
              "    }\n",
              "  </style>\n",
              "\n",
              "      <script>\n",
              "        const buttonEl =\n",
              "          document.querySelector('#df-3268e0e7-58e6-42b2-8a3c-3b06ce71b5e5 button.colab-df-convert');\n",
              "        buttonEl.style.display =\n",
              "          google.colab.kernel.accessAllowed ? 'block' : 'none';\n",
              "\n",
              "        async function convertToInteractive(key) {\n",
              "          const element = document.querySelector('#df-3268e0e7-58e6-42b2-8a3c-3b06ce71b5e5');\n",
              "          const dataTable =\n",
              "            await google.colab.kernel.invokeFunction('convertToInteractive',\n",
              "                                                     [key], {});\n",
              "          if (!dataTable) return;\n",
              "\n",
              "          const docLinkHtml = 'Like what you see? Visit the ' +\n",
              "            '<a target=\"_blank\" href=https://colab.research.google.com/notebooks/data_table.ipynb>data table notebook</a>'\n",
              "            + ' to learn more about interactive tables.';\n",
              "          element.innerHTML = '';\n",
              "          dataTable['output_type'] = 'display_data';\n",
              "          await google.colab.output.renderOutput(dataTable, element);\n",
              "          const docLink = document.createElement('div');\n",
              "          docLink.innerHTML = docLinkHtml;\n",
              "          element.appendChild(docLink);\n",
              "        }\n",
              "      </script>\n",
              "    </div>\n",
              "  </div>\n",
              "  "
            ]
          },
          "metadata": {},
          "execution_count": 66
        }
      ]
    }
  ]
}
